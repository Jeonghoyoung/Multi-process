{
 "cells": [
  {
   "cell_type": "code",
   "execution_count": 2,
   "id": "4ae62302",
   "metadata": {},
   "outputs": [],
   "source": [
    "import requests\n",
    "from bs4 import BeautifulSoup\n",
    "import time\n",
    "import pandas as pd"
   ]
  },
  {
   "cell_type": "code",
   "execution_count": 74,
   "id": "474dc647",
   "metadata": {},
   "outputs": [],
   "source": [
    "url = f'https://movie.naver.com///movie/bi/mi/pointWriteFormList.naver?code=211161&type=after&isActualPointWriteExecute=false&isMileageSubscriptionAlready=false&isMileageSubscriptionReject=false&page=2'\n",
    "html = requests.get(url)\n",
    "soup = BeautifulSoup(html.text, 'html.parser')\n",
    "reviews = soup.select('div.star_score > em')"
   ]
  },
  {
   "cell_type": "code",
   "execution_count": 75,
   "id": "87c60750",
   "metadata": {},
   "outputs": [
    {
     "data": {
      "text/plain": [
       "10"
      ]
     },
     "execution_count": 75,
     "metadata": {},
     "output_type": "execute_result"
    }
   ],
   "source": [
    "len(reviews)"
   ]
  },
  {
   "cell_type": "code",
   "execution_count": 79,
   "id": "0327a3f5",
   "metadata": {},
   "outputs": [
    {
     "data": {
      "text/plain": [
       "'5'"
      ]
     },
     "execution_count": 79,
     "metadata": {},
     "output_type": "execute_result"
    }
   ],
   "source": [
    "reviews[0].text"
   ]
  },
  {
   "cell_type": "code",
   "execution_count": 73,
   "id": "78e8e9d9",
   "metadata": {},
   "outputs": [
    {
     "data": {
      "text/plain": [
       "'피 피 피 피뭐 더 없어요'"
      ]
     },
     "execution_count": 73,
     "metadata": {},
     "output_type": "execute_result"
    }
   ],
   "source": [
    "reviews[-1].text.replace('\\n관람객','').replace('\\t','').replace('\\n','').replace('\\r','').strip()"
   ]
  },
  {
   "cell_type": "code",
   "execution_count": 88,
   "id": "cbdd7b70",
   "metadata": {},
   "outputs": [],
   "source": [
    "review_list, score_list = [], []\n",
    "for i in range(5):\n",
    "    url = f'https://movie.naver.com///movie/bi/mi/pointWriteFormList.naver?code=211161&type=after&isActualPointWriteExecute=false&isMileageSubscriptionAlready=false&isMileageSubscriptionReject=false&page={i}'\n",
    "    html = requests.get(url)\n",
    "    soup = BeautifulSoup(html.text, 'html.parser')\n",
    "    reviews = soup.select('div.score_reple > p')\n",
    "    stars = soup.select('div.star_score > em')\n",
    "    \n",
    "    for j in range(len(reviews)):\n",
    "        review = reviews[j].text.replace('\\n관람객','').replace('\\t','').replace('\\n','').replace('\\r','').strip()\n",
    "        review_list.append(review)\n",
    "        score_list.append(int(stars[j].text))\n",
    "        \n",
    "    "
   ]
  },
  {
   "cell_type": "code",
   "execution_count": 89,
   "id": "1ff30cb7",
   "metadata": {},
   "outputs": [
    {
     "data": {
      "text/plain": [
       "['늑대사냥 볼바에 그 돈으로 더위사냥 여러개 사드세요',\n",
       " '정소민 왜 나온지 아는 사람',\n",
       " '초반 30분 재밌음 서인국 연기 개 쫄깃하고 ㅈㄴ 기대했는데 ㅅㅂ ㅠ 갑자기 전형적인 한국영화됨스토리 ㅈ망 수위는 한국 최고는 맞음 근데 피 효과음 스프링쿨러 소리에다가 푸슉 푸슉 거리고 피 나오는 효과음만 강조한 ...',\n",
       " '그냥사람이터짐 무슨생각으로 이런영화를만든건지,, 정신감정이 필요해보임',\n",
       " '근본없는 내용으로 두시간은 너무 했다 시간사냥']"
      ]
     },
     "execution_count": 89,
     "metadata": {},
     "output_type": "execute_result"
    }
   ],
   "source": [
    "review_list[:5]"
   ]
  },
  {
   "cell_type": "code",
   "execution_count": 90,
   "id": "727336a3",
   "metadata": {},
   "outputs": [
    {
     "data": {
      "text/plain": [
       "[1, 2, 3, 2, 3]"
      ]
     },
     "execution_count": 90,
     "metadata": {},
     "output_type": "execute_result"
    }
   ],
   "source": [
    "score_list[:5]"
   ]
  },
  {
   "cell_type": "code",
   "execution_count": 91,
   "id": "2aef4d58",
   "metadata": {},
   "outputs": [],
   "source": [
    "df = pd.DataFrame({'평점':score_list, '리뷰':review_list})"
   ]
  },
  {
   "cell_type": "code",
   "execution_count": 92,
   "id": "3d7cdc96",
   "metadata": {},
   "outputs": [
    {
     "data": {
      "text/html": [
       "<div>\n",
       "<style scoped>\n",
       "    .dataframe tbody tr th:only-of-type {\n",
       "        vertical-align: middle;\n",
       "    }\n",
       "\n",
       "    .dataframe tbody tr th {\n",
       "        vertical-align: top;\n",
       "    }\n",
       "\n",
       "    .dataframe thead th {\n",
       "        text-align: right;\n",
       "    }\n",
       "</style>\n",
       "<table border=\"1\" class=\"dataframe\">\n",
       "  <thead>\n",
       "    <tr style=\"text-align: right;\">\n",
       "      <th></th>\n",
       "      <th>평점</th>\n",
       "      <th>리뷰</th>\n",
       "    </tr>\n",
       "  </thead>\n",
       "  <tbody>\n",
       "    <tr>\n",
       "      <th>0</th>\n",
       "      <td>1</td>\n",
       "      <td>늑대사냥 볼바에 그 돈으로 더위사냥 여러개 사드세요</td>\n",
       "    </tr>\n",
       "    <tr>\n",
       "      <th>1</th>\n",
       "      <td>2</td>\n",
       "      <td>정소민 왜 나온지 아는 사람</td>\n",
       "    </tr>\n",
       "    <tr>\n",
       "      <th>2</th>\n",
       "      <td>3</td>\n",
       "      <td>초반 30분 재밌음 서인국 연기 개 쫄깃하고 ㅈㄴ 기대했는데 ㅅㅂ ㅠ 갑자기 전형적...</td>\n",
       "    </tr>\n",
       "    <tr>\n",
       "      <th>3</th>\n",
       "      <td>2</td>\n",
       "      <td>그냥사람이터짐 무슨생각으로 이런영화를만든건지,, 정신감정이 필요해보임</td>\n",
       "    </tr>\n",
       "    <tr>\n",
       "      <th>4</th>\n",
       "      <td>3</td>\n",
       "      <td>근본없는 내용으로 두시간은 너무 했다 시간사냥</td>\n",
       "    </tr>\n",
       "    <tr>\n",
       "      <th>5</th>\n",
       "      <td>1</td>\n",
       "      <td>중간까진 정말 재밌게 보다 갑자기 스토리가 난해해졌습니다.. 이런 내용일거라곤 정말...</td>\n",
       "    </tr>\n",
       "    <tr>\n",
       "      <th>6</th>\n",
       "      <td>1</td>\n",
       "      <td>고어물 매니아가 아니라면 정신건강을 위해 안보는게 좋은 영화</td>\n",
       "    </tr>\n",
       "    <tr>\n",
       "      <th>7</th>\n",
       "      <td>4</td>\n",
       "      <td>최악의 낚시 영화. 허무한 sf물</td>\n",
       "    </tr>\n",
       "    <tr>\n",
       "      <th>8</th>\n",
       "      <td>6</td>\n",
       "      <td>한국도 이렇게 잔인하게 만들수있구나 하면서 놀랐는데 그 말고는 없음.... 두번은 ...</td>\n",
       "    </tr>\n",
       "    <tr>\n",
       "      <th>9</th>\n",
       "      <td>10</td>\n",
       "      <td>서인국 연기변신 놀랍다....</td>\n",
       "    </tr>\n",
       "    <tr>\n",
       "      <th>10</th>\n",
       "      <td>5</td>\n",
       "      <td>마녀로 빠지지말고 죄수 vs 경찰 고어스릴러로 쭉 나갔어야했다. 반전 이후 긴장감은...</td>\n",
       "    </tr>\n",
       "    <tr>\n",
       "      <th>11</th>\n",
       "      <td>1</td>\n",
       "      <td>초반 20분 서인국이 캐리해서 오 재미있나? 했다가 갑자기 D급 최악의 몬스터 학살...</td>\n",
       "    </tr>\n",
       "    <tr>\n",
       "      <th>12</th>\n",
       "      <td>5</td>\n",
       "      <td>일단 장르가지고 사기쳤음 잔인해도 경찰과 범죄자들의 숨막히는 액션를 보고싶었는데 뜬...</td>\n",
       "    </tr>\n",
       "    <tr>\n",
       "      <th>13</th>\n",
       "      <td>1</td>\n",
       "      <td>이 영화를 이런사람들에게 추천해요1.롯데리아가서 감자튀김 하나 먹으면서 케첩 한주먹...</td>\n",
       "    </tr>\n",
       "    <tr>\n",
       "      <th>14</th>\n",
       "      <td>1</td>\n",
       "      <td>영화를 보기 전에 여러분이 생각하셨던 그 내용과 스토리가 아닙니다 영화를 보는 내내...</td>\n",
       "    </tr>\n",
       "    <tr>\n",
       "      <th>15</th>\n",
       "      <td>1</td>\n",
       "      <td>노답최악감독이 투자자랑 싸워서 복수심에 망쳤나봅니다</td>\n",
       "    </tr>\n",
       "    <tr>\n",
       "      <th>16</th>\n",
       "      <td>1</td>\n",
       "      <td>서인국 보고 와 미쳤다 했는데 아래 평점대로 30분만 재밌음 마녀2보고 후회했는데 ...</td>\n",
       "    </tr>\n",
       "    <tr>\n",
       "      <th>17</th>\n",
       "      <td>8</td>\n",
       "      <td>서인국 대단함 앞부분은 정말 재미있음. 30분 이후 부터는 좀비영화임 .. 너무 잔인함</td>\n",
       "    </tr>\n",
       "    <tr>\n",
       "      <th>18</th>\n",
       "      <td>4</td>\n",
       "      <td>보는 나도 피가 솟구친다.</td>\n",
       "    </tr>\n",
       "    <tr>\n",
       "      <th>19</th>\n",
       "      <td>1</td>\n",
       "      <td>피 피 피 피뭐 더 없어요</td>\n",
       "    </tr>\n",
       "    <tr>\n",
       "      <th>20</th>\n",
       "      <td>1</td>\n",
       "      <td>1점 이상준 사람들 정신에 문제있음</td>\n",
       "    </tr>\n",
       "    <tr>\n",
       "      <th>21</th>\n",
       "      <td>3</td>\n",
       "      <td>스포일러가 포함된 감상평입니다. 감상평 보기초반엔 좀 흥미진진하다가 갑자기 눈에 호...</td>\n",
       "    </tr>\n",
       "    <tr>\n",
       "      <th>22</th>\n",
       "      <td>1</td>\n",
       "      <td>배우들이 아깝다는 생각이 제일 먼저 들었고 , CGV에서 15000장 공짜로 푸는건...</td>\n",
       "    </tr>\n",
       "    <tr>\n",
       "      <th>23</th>\n",
       "      <td>2</td>\n",
       "      <td>이걸 영화라고 만들고 자빠졌네 ㅋㅋ 영화 다안보고 나오긴 처음이다 ㅋ</td>\n",
       "    </tr>\n",
       "    <tr>\n",
       "      <th>24</th>\n",
       "      <td>1</td>\n",
       "      <td>돈 버리고 싶으면 보시길 최악임; 보러가자고 한 친구한테 쌍욕함</td>\n",
       "    </tr>\n",
       "    <tr>\n",
       "      <th>25</th>\n",
       "      <td>1</td>\n",
       "      <td>피가 난무함. 신선하다. 오 흥미진진 이러고 보다가 갑자기... 무슨 영화를 이렇게...</td>\n",
       "    </tr>\n",
       "    <tr>\n",
       "      <th>26</th>\n",
       "      <td>1</td>\n",
       "      <td>연출자께서는 메이즈러너 사례를 복기해보심이 좋을듯하며 소개 및 단순홍보를 넘어 각종...</td>\n",
       "    </tr>\n",
       "    <tr>\n",
       "      <th>27</th>\n",
       "      <td>10</td>\n",
       "      <td>서인국 돌은 눈빛 지렸고 영화보면서 숨참으면서 봤음 하드코어 그 잡채..잔인한거 좋...</td>\n",
       "    </tr>\n",
       "    <tr>\n",
       "      <th>28</th>\n",
       "      <td>1</td>\n",
       "      <td>ㅋㅋㅋ 진짜 내 자신에게 미안하다..</td>\n",
       "    </tr>\n",
       "    <tr>\n",
       "      <th>29</th>\n",
       "      <td>10</td>\n",
       "      <td>서인국 연기변신.. 말잇못..</td>\n",
       "    </tr>\n",
       "    <tr>\n",
       "      <th>30</th>\n",
       "      <td>2</td>\n",
       "      <td>별로 안 궁금하고 알고싶지도 않은데 자꾸 이상한 내용을 츄라이 츄라이 하는 기분이다...</td>\n",
       "    </tr>\n",
       "    <tr>\n",
       "      <th>31</th>\n",
       "      <td>4</td>\n",
       "      <td>피는 진짜 많이 튄다...그런데 그게...다인듯... 다른건 다 별로... 악마를 ...</td>\n",
       "    </tr>\n",
       "    <tr>\n",
       "      <th>32</th>\n",
       "      <td>1</td>\n",
       "      <td>김홍선 영화 만들지마성동일 약점 잡힘</td>\n",
       "    </tr>\n",
       "    <tr>\n",
       "      <th>33</th>\n",
       "      <td>2</td>\n",
       "      <td>고어 팬들에게는 약하고... 일반인들에겐 과한... 아무것도 잡지 못 한영화... ...</td>\n",
       "    </tr>\n",
       "    <tr>\n",
       "      <th>34</th>\n",
       "      <td>10</td>\n",
       "      <td>서인국 되게 오랜만에 강렬하네</td>\n",
       "    </tr>\n",
       "    <tr>\n",
       "      <th>35</th>\n",
       "      <td>6</td>\n",
       "      <td>서인국표 범죄 느와르 영화를 기대하고 갔으나 성동일표 마녀1.5를 보고 나옴. 2편...</td>\n",
       "    </tr>\n",
       "    <tr>\n",
       "      <th>36</th>\n",
       "      <td>8</td>\n",
       "      <td>모든 배우의 연기는 높이삽니다.. 그러나 너무 잔인해서..   2번 보긴 힘들듯 해...</td>\n",
       "    </tr>\n",
       "    <tr>\n",
       "      <th>37</th>\n",
       "      <td>2</td>\n",
       "      <td>서인국 만 생각나는 영화</td>\n",
       "    </tr>\n",
       "    <tr>\n",
       "      <th>38</th>\n",
       "      <td>5</td>\n",
       "      <td>괴수가 안나왔다면 더 재밌었을텐데</td>\n",
       "    </tr>\n",
       "    <tr>\n",
       "      <th>39</th>\n",
       "      <td>1</td>\n",
       "      <td>개연성 없고 중간에 스토리가 급 변경되며 밑도 끝도 없이 무조건 너무 잔인한 살인과...</td>\n",
       "    </tr>\n",
       "  </tbody>\n",
       "</table>\n",
       "</div>"
      ],
      "text/plain": [
       "    평점                                                 리뷰\n",
       "0    1                       늑대사냥 볼바에 그 돈으로 더위사냥 여러개 사드세요\n",
       "1    2                                    정소민 왜 나온지 아는 사람\n",
       "2    3  초반 30분 재밌음 서인국 연기 개 쫄깃하고 ㅈㄴ 기대했는데 ㅅㅂ ㅠ 갑자기 전형적...\n",
       "3    2             그냥사람이터짐 무슨생각으로 이런영화를만든건지,, 정신감정이 필요해보임\n",
       "4    3                          근본없는 내용으로 두시간은 너무 했다 시간사냥\n",
       "5    1  중간까진 정말 재밌게 보다 갑자기 스토리가 난해해졌습니다.. 이런 내용일거라곤 정말...\n",
       "6    1                  고어물 매니아가 아니라면 정신건강을 위해 안보는게 좋은 영화\n",
       "7    4                                 최악의 낚시 영화. 허무한 sf물\n",
       "8    6  한국도 이렇게 잔인하게 만들수있구나 하면서 놀랐는데 그 말고는 없음.... 두번은 ...\n",
       "9   10                                   서인국 연기변신 놀랍다....\n",
       "10   5  마녀로 빠지지말고 죄수 vs 경찰 고어스릴러로 쭉 나갔어야했다. 반전 이후 긴장감은...\n",
       "11   1  초반 20분 서인국이 캐리해서 오 재미있나? 했다가 갑자기 D급 최악의 몬스터 학살...\n",
       "12   5  일단 장르가지고 사기쳤음 잔인해도 경찰과 범죄자들의 숨막히는 액션를 보고싶었는데 뜬...\n",
       "13   1  이 영화를 이런사람들에게 추천해요1.롯데리아가서 감자튀김 하나 먹으면서 케첩 한주먹...\n",
       "14   1  영화를 보기 전에 여러분이 생각하셨던 그 내용과 스토리가 아닙니다 영화를 보는 내내...\n",
       "15   1                       노답최악감독이 투자자랑 싸워서 복수심에 망쳤나봅니다\n",
       "16   1  서인국 보고 와 미쳤다 했는데 아래 평점대로 30분만 재밌음 마녀2보고 후회했는데 ...\n",
       "17   8   서인국 대단함 앞부분은 정말 재미있음. 30분 이후 부터는 좀비영화임 .. 너무 잔인함\n",
       "18   4                                     보는 나도 피가 솟구친다.\n",
       "19   1                                     피 피 피 피뭐 더 없어요\n",
       "20   1                                1점 이상준 사람들 정신에 문제있음\n",
       "21   3  스포일러가 포함된 감상평입니다. 감상평 보기초반엔 좀 흥미진진하다가 갑자기 눈에 호...\n",
       "22   1  배우들이 아깝다는 생각이 제일 먼저 들었고 , CGV에서 15000장 공짜로 푸는건...\n",
       "23   2             이걸 영화라고 만들고 자빠졌네 ㅋㅋ 영화 다안보고 나오긴 처음이다 ㅋ\n",
       "24   1                돈 버리고 싶으면 보시길 최악임; 보러가자고 한 친구한테 쌍욕함\n",
       "25   1  피가 난무함. 신선하다. 오 흥미진진 이러고 보다가 갑자기... 무슨 영화를 이렇게...\n",
       "26   1  연출자께서는 메이즈러너 사례를 복기해보심이 좋을듯하며 소개 및 단순홍보를 넘어 각종...\n",
       "27  10  서인국 돌은 눈빛 지렸고 영화보면서 숨참으면서 봤음 하드코어 그 잡채..잔인한거 좋...\n",
       "28   1                               ㅋㅋㅋ 진짜 내 자신에게 미안하다..\n",
       "29  10                                   서인국 연기변신.. 말잇못..\n",
       "30   2  별로 안 궁금하고 알고싶지도 않은데 자꾸 이상한 내용을 츄라이 츄라이 하는 기분이다...\n",
       "31   4  피는 진짜 많이 튄다...그런데 그게...다인듯... 다른건 다 별로... 악마를 ...\n",
       "32   1                               김홍선 영화 만들지마성동일 약점 잡힘\n",
       "33   2  고어 팬들에게는 약하고... 일반인들에겐 과한... 아무것도 잡지 못 한영화... ...\n",
       "34  10                                   서인국 되게 오랜만에 강렬하네\n",
       "35   6  서인국표 범죄 느와르 영화를 기대하고 갔으나 성동일표 마녀1.5를 보고 나옴. 2편...\n",
       "36   8  모든 배우의 연기는 높이삽니다.. 그러나 너무 잔인해서..   2번 보긴 힘들듯 해...\n",
       "37   2                                      서인국 만 생각나는 영화\n",
       "38   5                                 괴수가 안나왔다면 더 재밌었을텐데\n",
       "39   1  개연성 없고 중간에 스토리가 급 변경되며 밑도 끝도 없이 무조건 너무 잔인한 살인과..."
      ]
     },
     "execution_count": 92,
     "metadata": {},
     "output_type": "execute_result"
    }
   ],
   "source": [
    "for i in range(5):\n",
    "    url = f'https://movie.naver.com///movie/bi/mi/pointWriteFormList.naver?code=211161&type=after&isActualPointWriteExecute=false&isMileageSubscriptionAlready=false&isMileageSubscriptionReject=false&page={i}'\n",
    "    html = requests.get(url)"
   ]
  },
  {
   "cell_type": "code",
   "execution_count": null,
   "id": "672e3a04",
   "metadata": {},
   "outputs": [],
   "source": []
  }
 ],
 "metadata": {
  "kernelspec": {
   "display_name": "mc",
   "language": "python",
   "name": "mc"
  },
  "language_info": {
   "codemirror_mode": {
    "name": "ipython",
    "version": 3
   },
   "file_extension": ".py",
   "mimetype": "text/x-python",
   "name": "python",
   "nbconvert_exporter": "python",
   "pygments_lexer": "ipython3",
   "version": "3.7.9"
  }
 },
 "nbformat": 4,
 "nbformat_minor": 5
}
