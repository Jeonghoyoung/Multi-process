{
 "cells": [
  {
   "cell_type": "code",
   "execution_count": 2,
   "id": "2a795515",
   "metadata": {},
   "outputs": [],
   "source": [
    "import requests\n",
    "from bs4 import BeautifulSoup\n",
    "import time\n",
    "import pandas as pd"
   ]
  },
  {
   "cell_type": "code",
   "execution_count": 74,
   "id": "804e6f36",
   "metadata": {},
   "outputs": [],
   "source": [
    "url = f'https://movie.naver.com///movie/bi/mi/pointWriteFormList.naver?code=211161&type=after&isActualPointWriteExecute=false&isMileageSubscriptionAlready=false&isMileageSubscriptionReject=false&page=2'\n",
    "html = requests.get(url)\n",
    "soup = BeautifulSoup(html.text, 'html.parser')\n",
    "reviews = soup.select('div.star_score > em')"
   ]
  },
  {
   "cell_type": "code",
   "execution_count": 75,
   "id": "1c0f180d",
   "metadata": {},
   "outputs": [
    {
     "data": {
      "text/plain": [
       "10"
      ]
     },
     "execution_count": 75,
     "metadata": {},
     "output_type": "execute_result"
    }
   ],
   "source": [
    "len(reviews)"
   ]
  },
  {
   "cell_type": "code",
   "execution_count": 79,
   "id": "1a8be036",
   "metadata": {},
   "outputs": [
    {
     "data": {
      "text/plain": [
       "'5'"
      ]
     },
     "execution_count": 79,
     "metadata": {},
     "output_type": "execute_result"
    }
   ],
   "source": [
    "reviews[0].text"
   ]
  },
  {
   "cell_type": "code",
   "execution_count": 73,
   "id": "a2d9f502",
   "metadata": {},
   "outputs": [
    {
     "data": {
      "text/plain": [
       "'피 피 피 피뭐 더 없어요'"
      ]
     },
     "execution_count": 73,
     "metadata": {},
     "output_type": "execute_result"
    }
   ],
   "source": [
    "reviews[-1].text.replace('\\n관람객','').replace('\\t','').replace('\\n','').replace('\\r','').strip()"
   ]
  },
  {
   "cell_type": "code",
   "execution_count": 80,
   "id": "8ccb00de",
   "metadata": {},
   "outputs": [],
   "source": [
    "review_list, score_list = [], []\n",
    "for i in range(5):\n",
    "    url = f'https://movie.naver.com///movie/bi/mi/pointWriteFormList.naver?code=211161&type=after&isActualPointWriteExecute=false&isMileageSubscriptionAlready=false&isMileageSubscriptionReject=false&page={i}'\n",
    "    html = requests.get(url)\n",
    "    soup = BeautifulSoup(html.text, 'html.parser')\n",
    "    reviews = soup.select('div.score_reple > p')\n",
    "    stars = soup.select('div.star_score > em')\n",
    "    \n",
    "    for j in range(len(reviews)):\n",
    "        review = reviews[j].text.replace('\\n관람객','').replace('\\t','').replace('\\n','').replace('\\r','').strip()\n",
    "        review_list.append(review)\n",
    "        score_list.append(stars[j].texts)\n",
    "        \n",
    "    "
   ]
  },
  {
   "cell_type": "code",
   "execution_count": 81,
   "id": "bcf0b1bc",
   "metadata": {},
   "outputs": [
    {
     "data": {
      "text/plain": [
       "['늑대사냥 볼바에 그 돈으로 더위사냥 여러개 사드세요',\n",
       " '정소민 왜 나온지 아는 사람',\n",
       " '초반 30분 재밌음 서인국 연기 개 쫄깃하고 ㅈㄴ 기대했는데 ㅅㅂ ㅠ 갑자기 전형적인 한국영화됨스토리 ㅈ망 수위는 한국 최고는 맞음 근데 피 효과음 스프링쿨러 소리에다가 푸슉 푸슉 거리고 피 나오는 효과음만 강조한 ...',\n",
       " '그냥사람이터짐 무슨생각으로 이런영화를만든건지,, 정신감정이 필요해보임',\n",
       " '근본없는 내용으로 두시간은 너무 했다 시간사냥',\n",
       " '중간까진 정말 재밌게 보다 갑자기 스토리가 난해해졌습니다.. 이런 내용일거라곤 정말 상상도 못 해서 할말을 잃고 봤네요 쓸데없이 음향효과도 극대화해 몰입도가 더욱 깨졌습니다 발소리랑 칼소리가 너무 크고 부자연스러워 ...',\n",
       " '고어물 매니아가 아니라면 정신건강을 위해 안보는게 좋은 영화',\n",
       " '최악의 낚시 영화. 허무한 sf물',\n",
       " '한국도 이렇게 잔인하게 만들수있구나 하면서 놀랐는데 그 말고는 없음.... 두번은 안 볼듯 근대 서인국은 미쳤드라',\n",
       " '서인국 연기변신 놀랍다....',\n",
       " '마녀로 빠지지말고 죄수 vs 경찰 고어스릴러로 쭉 나갔어야했다. 반전 이후 긴장감은 사라지고 모든 캐릭터가 피분수 내는 인형이 되어버렸다',\n",
       " '초반 20분 서인국이 캐리해서 오 재미있나? 했다가 갑자기 D급 최악의 몬스터 학살 영화로 바뀜.시간이 아깝고 돈이 아까움 중간에 나갈까 몇번이나 생각함',\n",
       " '일단 장르가지고 사기쳤음 잔인해도 경찰과 범죄자들의 숨막히는 액션를 보고싶었는데 뜬금 터미네이터 나옴 또 이해가 안되는게 지들 동료 총맞고 칼맞아 죽었고 범죄자들 소총들고있는데도 꼼짝마 총버려 소리가 왜나옴ㅋㅋㅋ연기...',\n",
       " '이 영화를 이런사람들에게 추천해요1.롯데리아가서 감자튀김 하나 먹으면서 케첩 한주먹씩 가져오시는 분 - 영화 러닝타임동안 꾸준히 케찹이 터집니다 2.본인의 인생 최대로 길게 읽은 책이 껌사면 나오는 4컷 만화일 경우...',\n",
       " '영화를 보기 전에 여러분이 생각하셨던 그 내용과 스토리가 아닙니다 영화를 보는 내내 얼굴을 찌푸렸고 너무 잔인해서 토할 것 같았습니다',\n",
       " '노답최악감독이 투자자랑 싸워서 복수심에 망쳤나봅니다',\n",
       " '서인국 보고 와 미쳤다 했는데 아래 평점대로 30분만 재밌음 마녀2보고 후회했는데 같은 실수를 반복했네 시간아깝고 돈아까운 느낌',\n",
       " '서인국 대단함 앞부분은 정말 재미있음. 30분 이후 부터는 좀비영화임 .. 너무 잔인함',\n",
       " '보는 나도 피가 솟구친다.',\n",
       " '피 피 피 피뭐 더 없어요',\n",
       " '1점 이상준 사람들 정신에 문제있음',\n",
       " '스포일러가 포함된 감상평입니다. 감상평 보기초반엔 좀 흥미진진하다가 갑자기 눈에 호치캐스박은 아재나와서 움직일때마다 로봇캅 맹키로 발자국 소리나는데 ㄹㅇ 헛웃음밖에 안나옴',\n",
       " '배우들이 아깝다는 생각이 제일 먼저 들었고 , CGV에서 15000장 공짜로 푸는건 다 이유가 있다 봄 황당한 스토리 진행으로 관객들 실망시킴',\n",
       " '이걸 영화라고 만들고 자빠졌네 ㅋㅋ 영화 다안보고 나오긴 처음이다 ㅋ',\n",
       " '돈 버리고 싶으면 보시길 최악임; 보러가자고 한 친구한테 쌍욕함',\n",
       " '피가 난무함. 신선하다. 오 흥미진진 이러고 보다가 갑자기... 무슨 영화를 이렇게...? 뭘 말하고싶으신거죠...? 배우들을 이렇게 쓰신다구요??? 장르파괴 와 예고만보면 범죄스릴러인데 갑자기...참나... 중간부...',\n",
       " '연출자께서는 메이즈러너 사례를 복기해보심이 좋을듯하며 소개 및 단순홍보를 넘어 각종 낚시성 홍보에 동참한 영화채널 유튜버님들도 정말 컨텐츠에 한점 부끄러움이 없으셨는지 생각해보는 시간이 되시길 바랍니다. 36년 인생...',\n",
       " '서인국 돌은 눈빛 지렸고 영화보면서 숨참으면서 봤음 하드코어 그 잡채..잔인한거 좋아하시는 분은 강추',\n",
       " 'ㅋㅋㅋ 진짜 내 자신에게 미안하다..',\n",
       " '서인국 연기변신.. 말잇못..',\n",
       " '별로 안 궁금하고 알고싶지도 않은데 자꾸 이상한 내용을 츄라이 츄라이 하는 기분이다. 확실한 건 딱 중간을 넘어가면서  영화가 길을 잃은 것 같다. 결국 보여준 건 아무 것도 없고, 살살 간보던 떡밥들은 아무 설명 ...',\n",
       " '피는 진짜 많이 튄다...그런데 그게...다인듯... 다른건 다 별로... 악마를 보았다 보다 더 피와 살이 튄다..영화 내내...하지만 그게 악마를 보았다 만큼 고통스럽게 느껴지진 않더라구... 사실 너무 현실감이...',\n",
       " '김홍선 영화 만들지마성동일 약점 잡힘',\n",
       " '고어 팬들에게는 약하고... 일반인들에겐 과한... 아무것도 잡지 못 한영화...  같은 장면만 반복되어 지루해진다..',\n",
       " '서인국 되게 오랜만에 강렬하네',\n",
       " '서인국표 범죄 느와르 영화를 기대하고 갔으나 성동일표 마녀1.5를 보고 나옴. 2편 만들겠다고 떡밥은 뿌려놨는데 과연...ㅋㅋㅋ',\n",
       " '모든 배우의 연기는 높이삽니다.. 그러나 너무 잔인해서..   2번 보긴 힘들듯 해요..서인국의 연기 변신은 아주 칭찬합니다..^^',\n",
       " '서인국 만 생각나는 영화',\n",
       " '괴수가 안나왔다면 더 재밌었을텐데',\n",
       " '개연성 없고 중간에 스토리가 급 변경되며 밑도 끝도 없이 무조건 너무 잔인한 살인과 폭력만이 가득한 영화. 하드코어 고어물인가요?']"
      ]
     },
     "execution_count": 81,
     "metadata": {},
     "output_type": "execute_result"
    }
   ],
   "source": [
    "review_list"
   ]
  },
  {
   "cell_type": "code",
   "execution_count": null,
   "id": "f5a55bb0",
   "metadata": {},
   "outputs": [],
   "source": []
  }
 ],
 "metadata": {
  "kernelspec": {
   "display_name": "mc",
   "language": "python",
   "name": "mc"
  },
  "language_info": {
   "codemirror_mode": {
    "name": "ipython",
    "version": 3
   },
   "file_extension": ".py",
   "mimetype": "text/x-python",
   "name": "python",
   "nbconvert_exporter": "python",
   "pygments_lexer": "ipython3",
   "version": "3.7.9"
  }
 },
 "nbformat": 4,
 "nbformat_minor": 5
}
